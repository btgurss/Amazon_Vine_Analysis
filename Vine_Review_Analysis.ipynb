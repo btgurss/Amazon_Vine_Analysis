{
  "nbformat": 4,
  "nbformat_minor": 0,
  "metadata": {
    "colab": {
      "name": "Vine_Review_Analysis",
      "provenance": [],
      "collapsed_sections": [],
      "authorship_tag": "ABX9TyOKIEj9vdsNaoeO8QH2Vvsl",
      "include_colab_link": true
    },
    "kernelspec": {
      "name": "python3",
      "display_name": "Python 3"
    },
    "language_info": {
      "name": "python"
    }
  },
  "cells": [
    {
      "cell_type": "markdown",
      "metadata": {
        "id": "view-in-github",
        "colab_type": "text"
      },
      "source": [
        "<a href=\"https://colab.research.google.com/github/btgurss/Amazon_Vine_Analysis/blob/main/Vine_Review_Analysis.ipynb\" target=\"_parent\"><img src=\"https://colab.research.google.com/assets/colab-badge.svg\" alt=\"Open In Colab\"/></a>"
      ]
    },
    {
      "cell_type": "code",
      "metadata": {
        "colab": {
          "base_uri": "https://localhost:8080/"
        },
        "id": "DQuGSJsgFUxE",
        "outputId": "b8ea46eb-2a0f-4847-bf11-14a1fa1fbb94"
      },
      "source": [
        "import os\n",
        "# Find the latest version of spark 3.0 from http://www.apache.org/dist/spark/ and enter as the spark version\n",
        "# For example:\n",
        "# spark_version = 'spark-3.0.3'\n",
        "spark_version = 'spark-3.0.3'\n",
        "os.environ['SPARK_VERSION']=spark_version\n",
        "\n",
        "# Install Spark and Java\n",
        "!apt-get update\n",
        "!apt-get install openjdk-11-jdk-headless -qq > /dev/null\n",
        "!wget -q http://www.apache.org/dist/spark/$SPARK_VERSION/$SPARK_VERSION-bin-hadoop2.7.tgz\n",
        "!tar xf $SPARK_VERSION-bin-hadoop2.7.tgz\n",
        "!pip install -q findspark\n",
        "\n",
        "# Set Environment Variables\n",
        "import os\n",
        "os.environ[\"JAVA_HOME\"] = \"/usr/lib/jvm/java-11-openjdk-amd64\"\n",
        "os.environ[\"SPARK_HOME\"] = f\"/content/{spark_version}-bin-hadoop2.7\"\n",
        "\n",
        "# Start a SparkSession\n",
        "import findspark\n",
        "findspark.init()"
      ],
      "execution_count": 5,
      "outputs": [
        {
          "output_type": "stream",
          "text": [
            "Hit:1 http://security.ubuntu.com/ubuntu bionic-security InRelease\n",
            "Ign:2 https://developer.download.nvidia.com/compute/cuda/repos/ubuntu1804/x86_64  InRelease\n",
            "Hit:3 https://cloud.r-project.org/bin/linux/ubuntu bionic-cran40/ InRelease\n",
            "Ign:4 https://developer.download.nvidia.com/compute/machine-learning/repos/ubuntu1804/x86_64  InRelease\n",
            "Hit:5 http://ppa.launchpad.net/c2d4u.team/c2d4u4.0+/ubuntu bionic InRelease\n",
            "Hit:6 https://developer.download.nvidia.com/compute/cuda/repos/ubuntu1804/x86_64  Release\n",
            "Hit:7 https://developer.download.nvidia.com/compute/machine-learning/repos/ubuntu1804/x86_64  Release\n",
            "Hit:8 http://archive.ubuntu.com/ubuntu bionic InRelease\n",
            "Hit:9 http://archive.ubuntu.com/ubuntu bionic-updates InRelease\n",
            "Hit:10 http://ppa.launchpad.net/cran/libgit2/ubuntu bionic InRelease\n",
            "Hit:11 http://archive.ubuntu.com/ubuntu bionic-backports InRelease\n",
            "Hit:12 http://ppa.launchpad.net/deadsnakes/ppa/ubuntu bionic InRelease\n",
            "Hit:13 http://ppa.launchpad.net/graphics-drivers/ppa/ubuntu bionic InRelease\n",
            "Reading package lists... Done\n"
          ],
          "name": "stdout"
        }
      ]
    },
    {
      "cell_type": "code",
      "metadata": {
        "colab": {
          "base_uri": "https://localhost:8080/"
        },
        "id": "C4sSqyr2FmJk",
        "outputId": "959500fc-1371-4394-9096-7efb770b7ae0"
      },
      "source": [
        "from pyspark import SparkFiles\n",
        "url = \"https://s3.amazonaws.com/amazon-reviews-pds/tsv/amazon_reviews_us_Toys_v1_00.tsv.gz\"\n",
        "spark.sparkContext.addFile(url)\n",
        "df = spark.read.option(\"encoding\", \"UTF-8\").csv(SparkFiles.get(\"amazon_reviews_us_Toys_v1_00.tsv.gz\"), sep=\"\\t\", header=True, inferSchema=True)\n",
        "df.show()"
      ],
      "execution_count": 6,
      "outputs": [
        {
          "output_type": "stream",
          "text": [
            "+-----------+-----------+--------------+----------+--------------+--------------------+----------------+-----------+-------------+-----------+----+-----------------+--------------------+--------------------+-----------+\n",
            "|marketplace|customer_id|     review_id|product_id|product_parent|       product_title|product_category|star_rating|helpful_votes|total_votes|vine|verified_purchase|     review_headline|         review_body|review_date|\n",
            "+-----------+-----------+--------------+----------+--------------+--------------------+----------------+-----------+-------------+-----------+----+-----------------+--------------------+--------------------+-----------+\n",
            "|         US|   18778586| RDIJS7QYB6XNR|B00EDBY7X8|     122952789|Monopoly Junior B...|            Toys|          5|            0|          0|   N|                Y|          Five Stars|        Excellent!!!| 2015-08-31|\n",
            "|         US|   24769659|R36ED1U38IELG8|B00D7JFOPC|     952062646|56 Pieces of Wood...|            Toys|          5|            0|          0|   N|                Y|Good quality trac...|Great quality woo...| 2015-08-31|\n",
            "|         US|   44331596| R1UE3RPRGCOLD|B002LHA74O|     818126353|Super Jumbo Playi...|            Toys|          2|            1|          1|   N|                Y|           Two Stars|Cards are not as ...| 2015-08-31|\n",
            "|         US|   23310293|R298788GS6I901|B00ARPLCGY|     261944918|Barbie Doll and F...|            Toys|          5|            0|          0|   N|                Y|my daughter loved...|my daughter loved...| 2015-08-31|\n",
            "|         US|   38745832|  RNX4EXOBBPN5|B00UZOPOFW|     717410439|Emazing Lights eL...|            Toys|          1|            1|          1|   N|                Y|     DONT BUY THESE!|Do not buy these!...| 2015-08-31|\n",
            "|         US|   13394189|R3BPETL222LMIM|B009B7F6CA|     873028700|Melissa & Doug Wa...|            Toys|          5|            0|          0|   N|                Y|          Five Stars|Great item. Pictu...| 2015-08-31|\n",
            "|         US|    2749569|R3SORMPJZO3F2J|B0101EHRSM|     723424342|Big Bang Cosmic P...|            Toys|          3|            2|          2|   N|                Y|         Three Stars|To keep together,...| 2015-08-31|\n",
            "|         US|   41137196|R2RDOJQ0WBZCF6|B00407S11Y|     383363775|Fun Express Insec...|            Toys|          5|            0|          0|   N|                Y|          Five Stars|I was pleased wit...| 2015-08-31|\n",
            "|         US|     433677|R2B8VBEPB4YEZ7|B00FGPU7U2|     780517568|Fisher-Price Octo...|            Toys|          5|            0|          0|   N|                Y|          Five Stars|    Children like it| 2015-08-31|\n",
            "|         US|    1297934|R1CB783I7B0U52|B0013OY0S0|     269360126|Claw Climber Goli...|            Toys|          1|            0|          1|   N|                Y|Shame on the sell...|Showed up not how...| 2015-08-31|\n",
            "|         US|   52006292| R2D90RQQ3V8LH|B00519PJTW|     493486387|100 Foot Multicol...|            Toys|          5|            0|          0|   N|                Y|          Five Stars|Really liked thes...| 2015-08-31|\n",
            "|         US|   32071052|R1Y4ZOUGFMJ327|B001TCY2DO|     459122467|Pig Jumbo Foil Ba...|            Toys|          5|            0|          0|   N|                Y|   Nice huge balloon|Nice huge balloon...| 2015-08-31|\n",
            "|         US|    7360347|R2BUV9QJI2A00X|B00DOQCWF8|     226984155|Minecraft Animal ...|            Toys|          5|            0|          1|   N|                Y|          Five Stars|          Great deal| 2015-08-31|\n",
            "|         US|   11613707| RSUHRJFJIRB3Z|B004C04I4I|     375659886|Disney Baby: Eeyo...|            Toys|          4|            0|          0|   N|                Y|          Four Stars|       As Advertised| 2015-08-31|\n",
            "|         US|   13545982|R1T96CG98BBA15|B00NWGEKBY|     933734136|Team Losi 8IGHT-E...|            Toys|          3|            2|          4|   N|                Y|... servo so expe...|Comes w a 15$ ser...| 2015-08-31|\n",
            "|         US|   43880421| R2ATXF4QQ30YW|B00000JS5S|     341842639|Hot Wheels 48- Ca...|            Toys|          5|            0|          0|   N|                Y|          Five Stars|   awesome ! Thanks!| 2015-08-31|\n",
            "|         US|    1662075|R1YS3DS218NNMD|B00XPWXYDK|     210135375|ZuZo 2.4GHz 4 CH ...|            Toys|          5|            4|          4|   N|                N|The closest relev...|I got this item f...| 2015-08-31|\n",
            "|         US|   18461411|R2SDXLTLF92O0H|B00VPXX92W|     705054378|Teenage Mutant Ni...|            Toys|          5|            0|          0|   N|                Y|          Five Stars|It was a birthday...| 2015-08-31|\n",
            "|         US|   27225859| R4R337CCDWLNG|B00YRA3H4U|     223420727|Franklin Sports M...|            Toys|          3|            0|          1|   Y|                N|Got wrong product...|Got a wrong produ...| 2015-08-31|\n",
            "|         US|   20494593|R32Z6UA4S5Q630|B009T8BSQY|     787701676|Alien Frontiers: ...|            Toys|          1|            0|          0|   N|                Y|         Overpriced.|You need expansio...| 2015-08-31|\n",
            "+-----------+-----------+--------------+----------+--------------+--------------------+----------------+-----------+-------------+-----------+----+-----------------+--------------------+--------------------+-----------+\n",
            "only showing top 20 rows\n",
            "\n"
          ],
          "name": "stdout"
        }
      ]
    },
    {
      "cell_type": "code",
      "metadata": {
        "colab": {
          "base_uri": "https://localhost:8080/"
        },
        "id": "T5j3GvQxFqBl",
        "outputId": "1068bbdd-598e-4650-f49a-94b2711a6db9"
      },
      "source": [
        "# Create the vine_table. DataFrame\n",
        "vine_df = df.select(['review_id', 'star_rating', 'helpful_votes', 'total_votes', 'vine', 'verified_purchase'])\n",
        "vine_df.show()"
      ],
      "execution_count": 7,
      "outputs": [
        {
          "output_type": "stream",
          "text": [
            "+--------------+-----------+-------------+-----------+----+-----------------+\n",
            "|     review_id|star_rating|helpful_votes|total_votes|vine|verified_purchase|\n",
            "+--------------+-----------+-------------+-----------+----+-----------------+\n",
            "| RDIJS7QYB6XNR|          5|            0|          0|   N|                Y|\n",
            "|R36ED1U38IELG8|          5|            0|          0|   N|                Y|\n",
            "| R1UE3RPRGCOLD|          2|            1|          1|   N|                Y|\n",
            "|R298788GS6I901|          5|            0|          0|   N|                Y|\n",
            "|  RNX4EXOBBPN5|          1|            1|          1|   N|                Y|\n",
            "|R3BPETL222LMIM|          5|            0|          0|   N|                Y|\n",
            "|R3SORMPJZO3F2J|          3|            2|          2|   N|                Y|\n",
            "|R2RDOJQ0WBZCF6|          5|            0|          0|   N|                Y|\n",
            "|R2B8VBEPB4YEZ7|          5|            0|          0|   N|                Y|\n",
            "|R1CB783I7B0U52|          1|            0|          1|   N|                Y|\n",
            "| R2D90RQQ3V8LH|          5|            0|          0|   N|                Y|\n",
            "|R1Y4ZOUGFMJ327|          5|            0|          0|   N|                Y|\n",
            "|R2BUV9QJI2A00X|          5|            0|          1|   N|                Y|\n",
            "| RSUHRJFJIRB3Z|          4|            0|          0|   N|                Y|\n",
            "|R1T96CG98BBA15|          3|            2|          4|   N|                Y|\n",
            "| R2ATXF4QQ30YW|          5|            0|          0|   N|                Y|\n",
            "|R1YS3DS218NNMD|          5|            4|          4|   N|                N|\n",
            "|R2SDXLTLF92O0H|          5|            0|          0|   N|                Y|\n",
            "| R4R337CCDWLNG|          3|            0|          1|   Y|                N|\n",
            "|R32Z6UA4S5Q630|          1|            0|          0|   N|                Y|\n",
            "+--------------+-----------+-------------+-----------+----+-----------------+\n",
            "only showing top 20 rows\n",
            "\n"
          ],
          "name": "stdout"
        }
      ]
    },
    {
      "cell_type": "code",
      "metadata": {
        "colab": {
          "base_uri": "https://localhost:8080/"
        },
        "id": "I_Ap1D0pGfzc",
        "outputId": "5185e809-a08a-4604-a703-b22493b85666"
      },
      "source": [
        "total_votes_greater_20_df = vine_df.filter(vine_df['total_votes'] >= 20)\n",
        "total_votes_greater_20_df.show()"
      ],
      "execution_count": 9,
      "outputs": [
        {
          "output_type": "stream",
          "text": [
            "+--------------+-----------+-------------+-----------+----+-----------------+\n",
            "|     review_id|star_rating|helpful_votes|total_votes|vine|verified_purchase|\n",
            "+--------------+-----------+-------------+-----------+----+-----------------+\n",
            "| ROP6ITXO8K5V2|          5|           23|         27|   N|                Y|\n",
            "|R3ND1LVU7AXCVF|          1|           21|         21|   N|                Y|\n",
            "| R9I5FOLKU99RY|          5|           19|         20|   Y|                N|\n",
            "|R1QS8AOD6HX3ED|          4|           59|         81|   N|                N|\n",
            "|R3ED60RC69CCQ6|          5|           22|         23|   Y|                N|\n",
            "|R2MDI1TP46VSYD|          3|            9|         21|   N|                Y|\n",
            "|R2JM687C525WR9|          3|           33|         33|   Y|                N|\n",
            "|R2LWX4TZ67FWPT|          4|           50|         50|   N|                N|\n",
            "|R29IYHPYD14AGI|          3|           84|         84|   N|                Y|\n",
            "|R1F2I723WRK5QV|          5|           20|         20|   N|                Y|\n",
            "| RRO8C1IVZMD6H|          5|           22|         22|   N|                N|\n",
            "|R2GHOWIWDVLN18|          1|           28|         36|   N|                Y|\n",
            "|R30PJ9XUHFTY5D|          5|           42|         43|   N|                N|\n",
            "| RK12D8DTG4G82|          5|            5|         22|   N|                N|\n",
            "|R2F7D9N3SSQC20|          4|           32|         34|   N|                N|\n",
            "| RN4VK9FV66YPS|          5|           29|         33|   N|                N|\n",
            "|R18T8SFBDXAKSY|          5|           95|         95|   N|                Y|\n",
            "|R36SKVJXZ0I98A|          5|          124|        127|   N|                N|\n",
            "| RJDIWMOZT0EGZ|          1|           11|         27|   N|                N|\n",
            "|R3PAIHQSO707G4|          5|          189|        221|   N|                N|\n",
            "+--------------+-----------+-------------+-----------+----+-----------------+\n",
            "only showing top 20 rows\n",
            "\n"
          ],
          "name": "stdout"
        }
      ]
    },
    {
      "cell_type": "code",
      "metadata": {
        "colab": {
          "base_uri": "https://localhost:8080/"
        },
        "id": "xk1DCdKhG3aE",
        "outputId": "bf64b799-65f5-425e-ddc8-417448547940"
      },
      "source": [
        "equal_or_greater_than_50_df = total_votes_greater_20_df.filter(total_votes_greater_20_df['helpful_votes']/total_votes_greater_20_df['total_votes'] >= 0.5)\n",
        "equal_or_greater_than_50_df.show()"
      ],
      "execution_count": 11,
      "outputs": [
        {
          "output_type": "stream",
          "text": [
            "+--------------+-----------+-------------+-----------+----+-----------------+\n",
            "|     review_id|star_rating|helpful_votes|total_votes|vine|verified_purchase|\n",
            "+--------------+-----------+-------------+-----------+----+-----------------+\n",
            "| ROP6ITXO8K5V2|          5|           23|         27|   N|                Y|\n",
            "|R3ND1LVU7AXCVF|          1|           21|         21|   N|                Y|\n",
            "| R9I5FOLKU99RY|          5|           19|         20|   Y|                N|\n",
            "|R1QS8AOD6HX3ED|          4|           59|         81|   N|                N|\n",
            "|R3ED60RC69CCQ6|          5|           22|         23|   Y|                N|\n",
            "|R2JM687C525WR9|          3|           33|         33|   Y|                N|\n",
            "|R2LWX4TZ67FWPT|          4|           50|         50|   N|                N|\n",
            "|R29IYHPYD14AGI|          3|           84|         84|   N|                Y|\n",
            "|R1F2I723WRK5QV|          5|           20|         20|   N|                Y|\n",
            "| RRO8C1IVZMD6H|          5|           22|         22|   N|                N|\n",
            "|R2GHOWIWDVLN18|          1|           28|         36|   N|                Y|\n",
            "|R30PJ9XUHFTY5D|          5|           42|         43|   N|                N|\n",
            "|R2F7D9N3SSQC20|          4|           32|         34|   N|                N|\n",
            "| RN4VK9FV66YPS|          5|           29|         33|   N|                N|\n",
            "|R18T8SFBDXAKSY|          5|           95|         95|   N|                Y|\n",
            "|R36SKVJXZ0I98A|          5|          124|        127|   N|                N|\n",
            "|R3PAIHQSO707G4|          5|          189|        221|   N|                N|\n",
            "|R2TETIV0IVWFSJ|          4|           80|         82|   N|                Y|\n",
            "|R1VBVD23GPZW0E|          5|           55|         58|   N|                Y|\n",
            "|R1AJKXVHURPVCZ|          3|           12|         22|   N|                Y|\n",
            "+--------------+-----------+-------------+-----------+----+-----------------+\n",
            "only showing top 20 rows\n",
            "\n"
          ],
          "name": "stdout"
        }
      ]
    },
    {
      "cell_type": "code",
      "metadata": {
        "colab": {
          "base_uri": "https://localhost:8080/"
        },
        "id": "JYgVf3BzH-fr",
        "outputId": "1deaf216-8b9f-437a-c5f9-319e6132de16"
      },
      "source": [
        "paid_df = equal_or_greater_than_50_df.filter(equal_or_greater_than_50_df['vine']=='Y')\n",
        "paid_df.show()"
      ],
      "execution_count": 12,
      "outputs": [
        {
          "output_type": "stream",
          "text": [
            "+--------------+-----------+-------------+-----------+----+-----------------+\n",
            "|     review_id|star_rating|helpful_votes|total_votes|vine|verified_purchase|\n",
            "+--------------+-----------+-------------+-----------+----+-----------------+\n",
            "| R9I5FOLKU99RY|          5|           19|         20|   Y|                N|\n",
            "|R3ED60RC69CCQ6|          5|           22|         23|   Y|                N|\n",
            "|R2JM687C525WR9|          3|           33|         33|   Y|                N|\n",
            "| RUB4AUWGHG16G|          4|           25|         27|   Y|                N|\n",
            "|R1S3IDYJUA6V2G|          5|           28|         32|   Y|                N|\n",
            "| RZFLN8FD5Y2M6|          4|           25|         28|   Y|                N|\n",
            "|R1V8NDXD9SETO5|          3|          320|        352|   Y|                N|\n",
            "|R2H4VEFWHP50M3|          5|           26|         36|   Y|                N|\n",
            "|R3DP6Y0A8WXUOV|          5|           21|         21|   Y|                N|\n",
            "| R49L85GZIKH4D|          3|           33|         36|   Y|                N|\n",
            "| R2RQKWRUS11DZ|          5|           18|         20|   Y|                N|\n",
            "| RZL7TPXLJPR2Z|          4|           19|         20|   Y|                N|\n",
            "|R34JSTH01HK1J8|          4|           75|         80|   Y|                N|\n",
            "|R1OI8PAJW4MWUY|          5|           20|         20|   Y|                N|\n",
            "|R1RXSJILN39UY1|          5|           48|         53|   Y|                N|\n",
            "| R79XS8S5EYX59|          3|           20|         22|   Y|                N|\n",
            "|R24STRS5M3QEXQ|          5|           60|         65|   Y|                N|\n",
            "|R15HJU8XNX1XG1|          4|           25|         26|   Y|                N|\n",
            "|R1NMYF3BJM72A0|          4|           57|         60|   Y|                N|\n",
            "| R8XSDH6E6YWMX|          4|           22|         24|   Y|                N|\n",
            "+--------------+-----------+-------------+-----------+----+-----------------+\n",
            "only showing top 20 rows\n",
            "\n"
          ],
          "name": "stdout"
        }
      ]
    },
    {
      "cell_type": "code",
      "metadata": {
        "colab": {
          "base_uri": "https://localhost:8080/"
        },
        "id": "s14jXHUpIM2_",
        "outputId": "028fe7e6-d6fa-43f9-e1a8-455e3f8504b1"
      },
      "source": [
        "unpaid_df = equal_or_greater_than_50_df.filter(equal_or_greater_than_50_df['vine']=='N')\n",
        "unpaid_df.show()"
      ],
      "execution_count": 13,
      "outputs": [
        {
          "output_type": "stream",
          "text": [
            "+--------------+-----------+-------------+-----------+----+-----------------+\n",
            "|     review_id|star_rating|helpful_votes|total_votes|vine|verified_purchase|\n",
            "+--------------+-----------+-------------+-----------+----+-----------------+\n",
            "| ROP6ITXO8K5V2|          5|           23|         27|   N|                Y|\n",
            "|R3ND1LVU7AXCVF|          1|           21|         21|   N|                Y|\n",
            "|R1QS8AOD6HX3ED|          4|           59|         81|   N|                N|\n",
            "|R2LWX4TZ67FWPT|          4|           50|         50|   N|                N|\n",
            "|R29IYHPYD14AGI|          3|           84|         84|   N|                Y|\n",
            "|R1F2I723WRK5QV|          5|           20|         20|   N|                Y|\n",
            "| RRO8C1IVZMD6H|          5|           22|         22|   N|                N|\n",
            "|R2GHOWIWDVLN18|          1|           28|         36|   N|                Y|\n",
            "|R30PJ9XUHFTY5D|          5|           42|         43|   N|                N|\n",
            "|R2F7D9N3SSQC20|          4|           32|         34|   N|                N|\n",
            "| RN4VK9FV66YPS|          5|           29|         33|   N|                N|\n",
            "|R18T8SFBDXAKSY|          5|           95|         95|   N|                Y|\n",
            "|R36SKVJXZ0I98A|          5|          124|        127|   N|                N|\n",
            "|R3PAIHQSO707G4|          5|          189|        221|   N|                N|\n",
            "|R2TETIV0IVWFSJ|          4|           80|         82|   N|                Y|\n",
            "|R1VBVD23GPZW0E|          5|           55|         58|   N|                Y|\n",
            "|R1AJKXVHURPVCZ|          3|           12|         22|   N|                Y|\n",
            "|R2QDNZYVEX9X14|          2|           18|         20|   N|                N|\n",
            "|R32RD311POLW7G|          3|           25|         27|   N|                Y|\n",
            "|R1VXO073B9HOGC|          4|           29|         30|   N|                Y|\n",
            "+--------------+-----------+-------------+-----------+----+-----------------+\n",
            "only showing top 20 rows\n",
            "\n"
          ],
          "name": "stdout"
        }
      ]
    },
    {
      "cell_type": "code",
      "metadata": {
        "colab": {
          "base_uri": "https://localhost:8080/"
        },
        "id": "YODQ5qY2IfIE",
        "outputId": "8f49424b-a0bc-4259-f968-b247b216690f"
      },
      "source": [
        "paid_df.count()"
      ],
      "execution_count": 41,
      "outputs": [
        {
          "output_type": "execute_result",
          "data": {
            "text/plain": [
              "1266"
            ]
          },
          "metadata": {
            "tags": []
          },
          "execution_count": 41
        }
      ]
    },
    {
      "cell_type": "code",
      "metadata": {
        "colab": {
          "base_uri": "https://localhost:8080/"
        },
        "id": "6jK1x7HtJLzA",
        "outputId": "0a03ad46-d17f-4e46-d326-2ba37f3497e3"
      },
      "source": [
        "paid_df.groupby(paid_df['star_rating']).count().show()"
      ],
      "execution_count": 39,
      "outputs": [
        {
          "output_type": "stream",
          "text": [
            "+-----------+-----+\n",
            "|star_rating|count|\n",
            "+-----------+-----+\n",
            "|          1|   36|\n",
            "|          3|  300|\n",
            "|          5|  432|\n",
            "|          4|  416|\n",
            "|          2|   82|\n",
            "+-----------+-----+\n",
            "\n"
          ],
          "name": "stdout"
        }
      ]
    },
    {
      "cell_type": "code",
      "metadata": {
        "colab": {
          "base_uri": "https://localhost:8080/"
        },
        "id": "5efYiL1WKHHb",
        "outputId": "f0f9a886-2146-4b8b-faa0-f1839658b5bc"
      },
      "source": [
        "432/1266*100"
      ],
      "execution_count": 43,
      "outputs": [
        {
          "output_type": "execute_result",
          "data": {
            "text/plain": [
              "34.12322274881517"
            ]
          },
          "metadata": {
            "tags": []
          },
          "execution_count": 43
        }
      ]
    },
    {
      "cell_type": "code",
      "metadata": {
        "colab": {
          "base_uri": "https://localhost:8080/"
        },
        "id": "xovYF-siM1NH",
        "outputId": "c4e9db39-029c-4239-d008-59cc6b33690a"
      },
      "source": [
        "total_unpaid = unpaid_df.count()\n",
        "total_unpaid"
      ],
      "execution_count": 27,
      "outputs": [
        {
          "output_type": "execute_result",
          "data": {
            "text/plain": [
              "62028"
            ]
          },
          "metadata": {
            "tags": []
          },
          "execution_count": 27
        }
      ]
    },
    {
      "cell_type": "code",
      "metadata": {
        "colab": {
          "base_uri": "https://localhost:8080/"
        },
        "id": "YXFxkQvKNDD3",
        "outputId": "a6aa0a50-4de7-427e-bd71-0e8822433e13"
      },
      "source": [
        "unpaid_df.groupby(paid_df['star_rating']).count().show()"
      ],
      "execution_count": 40,
      "outputs": [
        {
          "output_type": "stream",
          "text": [
            "+-----------+-----+\n",
            "|star_rating|count|\n",
            "+-----------+-----+\n",
            "|          1|11014|\n",
            "|          3| 6310|\n",
            "|          5|29982|\n",
            "|          4|10054|\n",
            "|          2| 4668|\n",
            "+-----------+-----+\n",
            "\n"
          ],
          "name": "stdout"
        }
      ]
    },
    {
      "cell_type": "code",
      "metadata": {
        "colab": {
          "base_uri": "https://localhost:8080/"
        },
        "id": "EwfoU9NNOKZb",
        "outputId": "757d2393-412d-4a5f-8e25-dfb2157844ce"
      },
      "source": [
        "29982/62028*100"
      ],
      "execution_count": 42,
      "outputs": [
        {
          "output_type": "execute_result",
          "data": {
            "text/plain": [
              "48.33623524859741"
            ]
          },
          "metadata": {
            "tags": []
          },
          "execution_count": 42
        }
      ]
    }
  ]
}